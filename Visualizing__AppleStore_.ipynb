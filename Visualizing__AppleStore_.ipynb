{
  "nbformat": 4,
  "nbformat_minor": 0,
  "metadata": {
    "colab": {
      "name": "Visualizing _AppleStore_",
      "private_outputs": true,
      "provenance": [],
      "authorship_tag": "ABX9TyMBPnbd/XqpNDeYi/M0zec3",
      "include_colab_link": true
    },
    "kernelspec": {
      "name": "python3",
      "display_name": "Python 3"
    },
    "accelerator": "GPU"
  },
  "cells": [
    {
      "cell_type": "markdown",
      "metadata": {
        "id": "view-in-github",
        "colab_type": "text"
      },
      "source": [
        "<a href=\"https://colab.research.google.com/github/Umakantshinde/Task1/blob/main/Visualizing__AppleStore_.ipynb\" target=\"_parent\"><img src=\"https://colab.research.google.com/assets/colab-badge.svg\" alt=\"Open In Colab\"/></a>"
      ]
    },
    {
      "cell_type": "code",
      "metadata": {
        "id": "yfdqevHUn54Y"
      },
      "source": [
        "import pandas as pd\r\n",
        "import numpy as np\r\n",
        "import matplotlib.pyplot as plt\r\n",
        "import seaborn as sns"
      ],
      "execution_count": null,
      "outputs": []
    },
    {
      "cell_type": "code",
      "metadata": {
        "id": "N47wQcF2of2p"
      },
      "source": [
        "row=data=pd.read_csv(\"AppleStore.csv\")"
      ],
      "execution_count": null,
      "outputs": []
    },
    {
      "cell_type": "code",
      "metadata": {
        "id": "exUg3oSvokeY"
      },
      "source": [
        "data.head()"
      ],
      "execution_count": null,
      "outputs": []
    },
    {
      "cell_type": "code",
      "metadata": {
        "id": "vZEfQJAcol5o"
      },
      "source": [
        "data.keys()"
      ],
      "execution_count": null,
      "outputs": []
    },
    {
      "cell_type": "code",
      "metadata": {
        "id": "F2m9CVhPovB_"
      },
      "source": [
        "data.isnull()"
      ],
      "execution_count": null,
      "outputs": []
    },
    {
      "cell_type": "code",
      "metadata": {
        "id": "EIkrHBmFpekd"
      },
      "source": [
        "data.isnull().sum()"
      ],
      "execution_count": null,
      "outputs": []
    },
    {
      "cell_type": "code",
      "metadata": {
        "id": "izuO7quGsSuK"
      },
      "source": [
        "data.describe()"
      ],
      "execution_count": null,
      "outputs": []
    },
    {
      "cell_type": "code",
      "metadata": {
        "id": "rIcvTA2m-ihH"
      },
      "source": [
        "data.count()"
      ],
      "execution_count": null,
      "outputs": []
    },
    {
      "cell_type": "code",
      "metadata": {
        "id": "FW-x3i0u17VY"
      },
      "source": [
        "sns.relplot(x=\"size_bytes\",y=\"price\",data=data)"
      ],
      "execution_count": null,
      "outputs": []
    },
    {
      "cell_type": "code",
      "metadata": {
        "id": "3OGIlwSUpigV"
      },
      "source": [
        "sns.pairplot(data)"
      ],
      "execution_count": null,
      "outputs": []
    },
    {
      "cell_type": "code",
      "metadata": {
        "id": "DWcxTokRpmks"
      },
      "source": [
        "vpp_lics=data[\"vpp_lic\"]"
      ],
      "execution_count": null,
      "outputs": []
    },
    {
      "cell_type": "code",
      "metadata": {
        "id": "BQWOlgJ82VKc"
      },
      "source": [
        "vpp_lics"
      ],
      "execution_count": null,
      "outputs": []
    },
    {
      "cell_type": "code",
      "metadata": {
        "id": "qobcBm9x6tJt"
      },
      "source": [
        "size_bytess=data[\"size_bytes\"]"
      ],
      "execution_count": null,
      "outputs": []
    },
    {
      "cell_type": "code",
      "metadata": {
        "id": "czuLuroc60i2"
      },
      "source": [
        "corr=data.corr()\r\n",
        "corr"
      ],
      "execution_count": null,
      "outputs": []
    },
    {
      "cell_type": "code",
      "metadata": {
        "id": "ACvlZghZ61oF"
      },
      "source": [
        "flg,ax=plt.subplots(figsize=(18,12))\r\n",
        "\r\n",
        "sns.heatmap(corr, annot=True,annot_kws={'size':12},cmap=\"coolwarm\")"
      ],
      "execution_count": null,
      "outputs": []
    },
    {
      "cell_type": "code",
      "metadata": {
        "id": "jVoBKmRucunu"
      },
      "source": [
        "corr.index.values"
      ],
      "execution_count": null,
      "outputs": []
    },
    {
      "cell_type": "code",
      "metadata": {
        "id": "FzSm-B3Ii4mb"
      },
      "source": [
        "def getcorrlatedfeature(corrdata,threshold):\r\n",
        "    feature=[]\r\n",
        "    value=[]\r\n",
        "    for i ,index in enumerate(corrdata.index):\r\n",
        "        if abs(corrdata[index])>threshold:\r\n",
        "            feature.append(index)\r\n",
        "            value.append(corrdata[index])\r\n",
        "    df=pd.DataFrame(data=value,index=feature,columns=['corr value'])\r\n",
        "    return df"
      ],
      "execution_count": null,
      "outputs": []
    },
    {
      "cell_type": "code",
      "metadata": {
        "id": "diypk5KcjCno"
      },
      "source": [
        "threshold=0.01\r\n",
        "corr_value=getcorrlatedfeature(corr['price'],threshold)\r\n",
        "corr_value"
      ],
      "execution_count": null,
      "outputs": []
    },
    {
      "cell_type": "code",
      "metadata": {
        "id": "QzBPrRGnjGGv"
      },
      "source": [
        "sns.relplot(x=\"price\",y=\"size_bytes\",data=data)"
      ],
      "execution_count": null,
      "outputs": []
    },
    {
      "cell_type": "code",
      "metadata": {
        "id": "e7c9-XgfjmOv"
      },
      "source": [
        "sns.relplot(x=\"ipadSc_urls.num\",y=\"price\",data=data)"
      ],
      "execution_count": null,
      "outputs": []
    },
    {
      "cell_type": "code",
      "metadata": {
        "id": "89v30gMtj63u"
      },
      "source": [
        "correlated_data=data[corr_value.index]"
      ],
      "execution_count": null,
      "outputs": []
    },
    {
      "cell_type": "code",
      "metadata": {
        "id": "WCtxrhYCkZO0"
      },
      "source": [
        "correlated_data.head()"
      ],
      "execution_count": null,
      "outputs": []
    },
    {
      "cell_type": "code",
      "metadata": {
        "id": "39xn35iolHKB"
      },
      "source": [
        ""
      ],
      "execution_count": null,
      "outputs": []
    },
    {
      "cell_type": "code",
      "metadata": {
        "id": "0j6c8_0_kbTd"
      },
      "source": [
        "sns.pairplot(correlated_data)"
      ],
      "execution_count": null,
      "outputs": []
    },
    {
      "cell_type": "code",
      "metadata": {
        "id": "nceoKLEEkteN"
      },
      "source": [
        ""
      ],
      "execution_count": null,
      "outputs": []
    },
    {
      "cell_type": "code",
      "metadata": {
        "id": "8KDPHUPTmU6B"
      },
      "source": [
        ""
      ],
      "execution_count": null,
      "outputs": []
    },
    {
      "cell_type": "code",
      "metadata": {
        "id": "13mKp8c4t_6A"
      },
      "source": [
        ""
      ],
      "execution_count": null,
      "outputs": []
    }
  ]
}